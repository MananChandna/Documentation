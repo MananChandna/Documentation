{
  "nbformat": 4,
  "nbformat_minor": 0,
  "metadata": {
    "colab": {
      "provenance": [],
      "authorship_tag": "ABX9TyN+IPDh+H21HHzdB5wdkIk2",
      "include_colab_link": true
    },
    "kernelspec": {
      "name": "python3",
      "display_name": "Python 3"
    },
    "language_info": {
      "name": "python"
    }
  },
  "cells": [
    {
      "cell_type": "markdown",
      "metadata": {
        "id": "view-in-github",
        "colab_type": "text"
      },
      "source": [
        "<a href=\"https://colab.research.google.com/github/MananChandna/Documentation/blob/main/Manan.ipynb\" target=\"_parent\"><img src=\"https://colab.research.google.com/assets/colab-badge.svg\" alt=\"Open In Colab\"/></a>"
      ]
    },
    {
      "cell_type": "markdown",
      "source": [
        "LaTeX is a typesetting system commonly used for mathematical and scientific documents. It's widely used for writing mathematical expressions, symbols, and equations.\n",
        "\n",
        "Let's break down the LaTeX code for the expression\n",
        "�\n",
        "(\n",
        "�\n",
        "∣\n",
        "�\n",
        ")\n",
        "=\n",
        "�\n",
        "(\n",
        "�\n",
        "∩\n",
        "�\n",
        ")\n",
        "�\n",
        "(\n",
        "�\n",
        ")\n",
        "P(A∣B)=\n",
        "P(B)\n",
        "P(A∩B)\n",
        "​\n",
        " :"
      ],
      "metadata": {
        "id": "-XPPxWPuEd3m"
      }
    },
    {
      "cell_type": "markdown",
      "source": [
        "\\begin{equation}\n",
        "P(A|B) = \\frac{P(A \\cap B)}{P(b)}\n",
        "\\end{equation}"
      ],
      "metadata": {
        "id": "rYiNKeHyQ715"
      }
    },
    {
      "cell_type": "markdown",
      "source": [
        "#This is the first lecture on Python programming ."
      ],
      "metadata": {
        "id": "zsQZrbwfSbzy"
      }
    },
    {
      "cell_type": "code",
      "source": [
        "# Creating an empty list named l1\n",
        "l1 = list()\n",
        "\n",
        "# l1 is now an empty list that can hold elements.\n",
        "# You can add elements to this list using append(), extend(), or other list methods."
      ],
      "metadata": {
        "id": "pCA7r7ceE_RQ"
      },
      "execution_count": 16,
      "outputs": []
    },
    {
      "cell_type": "markdown",
      "source": [
        "# Now lets perform all the functions on the list and explain them."
      ],
      "metadata": {
        "id": "7oAa_Tj9M-4k"
      }
    },
    {
      "cell_type": "markdown",
      "source": [
        "## Append function"
      ],
      "metadata": {
        "id": "0QTw4jLjNsGu"
      }
    },
    {
      "cell_type": "code",
      "source": [
        "# We created a list named l1 as you can see above\n",
        "# l1 = []\n",
        "\n",
        "# Append a new list [7, 5] to the list l1\n",
        "l1.append([7, 5])\n",
        "\n",
        "# Print the updated list l1\n",
        "print(l1)\n"
      ],
      "metadata": {
        "id": "LKTdz6l6Fxki",
        "colab": {
          "base_uri": "https://localhost:8080/"
        },
        "outputId": "fcb20a33-bc75-4bd2-c7bf-43d4710a4e8b"
      },
      "execution_count": 17,
      "outputs": [
        {
          "output_type": "stream",
          "name": "stdout",
          "text": [
            "[[7, 5]]\n"
          ]
        }
      ]
    },
    {
      "cell_type": "markdown",
      "source": [
        "Explanation:\n",
        "\n",
        "l1 = []: This line initializes an empty list named l1.\n",
        "\n",
        "l1.append([7, 5]): The append method is used to add the list [7, 5] as a single element to the end of the list l1.\n",
        "\n",
        "print(l1): This line prints the updated list l1, which now contains the appended sublist [7, 5]."
      ],
      "metadata": {
        "id": "33rj9NTPHPUz"
      }
    },
    {
      "cell_type": "markdown",
      "source": [
        "## Clear function"
      ],
      "metadata": {
        "id": "uh7XqyjlN0oY"
      }
    },
    {
      "cell_type": "code",
      "source": [
        "# Clear all elements from the list l1\n",
        "l1.clear()\n",
        "\n",
        "# Print the updated list l1 after clearing its elements\n",
        "print(l1)"
      ],
      "metadata": {
        "id": "kqf4H-9EG0mG",
        "colab": {
          "base_uri": "https://localhost:8080/"
        },
        "outputId": "4da0c470-8ee5-43e6-9e4a-fd7d749ac7ee"
      },
      "execution_count": 18,
      "outputs": [
        {
          "output_type": "stream",
          "name": "stdout",
          "text": [
            "[]\n"
          ]
        }
      ]
    },
    {
      "cell_type": "markdown",
      "source": [
        "Explanation:\n",
        "\n",
        "l1.clear(): The clear method is used to remove all elements from the list l1. After this line is executed, l1 will be an empty list.\n",
        "\n",
        "print(l1): This line prints the updated list l1 after clearing its elements."
      ],
      "metadata": {
        "id": "DG4-VhXqHdbx"
      }
    },
    {
      "cell_type": "code",
      "source": [
        "# lets append some int in l1 to explain the next function properly .\n",
        "l1.append([1,2,3,4,5])"
      ],
      "metadata": {
        "id": "0PcuyFP9Hip1"
      },
      "execution_count": 19,
      "outputs": []
    },
    {
      "cell_type": "code",
      "source": [
        "# Assign the value of list l1 to the list l2\n",
        "l2 = l1\n",
        "\n",
        "# Print the lists l1 and l2\n",
        "print(\"l1:\", l1)\n",
        "print(\"l2:\", l2)\n",
        "# Keep in mind that modifying l1 or l2 after this assignment will affect both lists since they reference the same underlying data."
      ],
      "metadata": {
        "id": "wVje5dwaISyq",
        "colab": {
          "base_uri": "https://localhost:8080/"
        },
        "outputId": "5a9ce97f-1401-4489-f47c-d56172d4aaab"
      },
      "execution_count": 20,
      "outputs": [
        {
          "output_type": "stream",
          "name": "stdout",
          "text": [
            "l1: [[1, 2, 3, 4, 5]]\n",
            "l2: [[1, 2, 3, 4, 5]]\n"
          ]
        }
      ]
    },
    {
      "cell_type": "markdown",
      "source": [
        "Explanation:\n",
        "\n",
        "1. l2 = l1: This line assigns the value of the list l1 to the variable l2. After this line is executed, both l1 and l2 will refer to the same list in memory. Any changes made to one list will affect the other.\n",
        "\n",
        "2. print(\"l1:\", l1): This line prints the content of the list l1.\n",
        "\n",
        "3. print(\"l2:\", l2): This line prints the content of the list l2."
      ],
      "metadata": {
        "id": "zFMOxiIVJHD0"
      }
    },
    {
      "cell_type": "markdown",
      "source": [
        "## Copy function"
      ],
      "metadata": {
        "id": "lbztNYPIN7y2"
      }
    },
    {
      "cell_type": "code",
      "source": [
        "# Create a shallow copy of the list l1 and assign it to the list l2\n",
        "l2 = l1.copy()\n",
        "\n",
        "# Print the lists l1 and l2\n",
        "print(\"l1:\", l1)\n",
        "print(\"l2:\", l2)"
      ],
      "metadata": {
        "id": "UPusqpaOJfp_",
        "colab": {
          "base_uri": "https://localhost:8080/"
        },
        "outputId": "1e48780d-608f-489d-e5c6-fb94b82825ac"
      },
      "execution_count": 21,
      "outputs": [
        {
          "output_type": "stream",
          "name": "stdout",
          "text": [
            "l1: [[1, 2, 3, 4, 5]]\n",
            "l2: [[1, 2, 3, 4, 5]]\n"
          ]
        }
      ]
    },
    {
      "cell_type": "markdown",
      "source": [
        "Explanation:\n",
        "\n",
        "1. l1.copy(): The copy method creates a shallow copy of the list l1. A shallow copy means that a new list is created, but the elements inside the new list still reference the same objects as the elements in the original list.\n",
        "\n",
        "2. l2 = l1.copy(): This line assigns the shallow copy of l1 to the variable l2. After this line is executed, l1 and l2 are two independent lists. Changes made to one list will not affect the other.\n",
        "\n",
        "3. print(\"l1:\", l1): This line prints the content of the original list l1.\n",
        "\n",
        "4. print(\"l2:\", l2): This line prints the content of the new list l2.\n",
        "\n",
        "So, if l1 had some elements before this assignment, both l1 and l2 will initially contain the same elements. However, they are separate lists, and modifications to one list won't affect the other."
      ],
      "metadata": {
        "id": "GEnw1qQrKcLr"
      }
    },
    {
      "cell_type": "markdown",
      "source": [
        "## Extend function"
      ],
      "metadata": {
        "id": "UNaLxtxyOAWz"
      }
    },
    {
      "cell_type": "code",
      "source": [
        "# Extend the list l1 by adding each character of the string 'Manan' as individual elements\n",
        "l1.extend('Manan')\n",
        "\n",
        "# Print the updated list l1\n",
        "print(\"l1:\", l1)"
      ],
      "metadata": {
        "id": "Tma8MkCjKpeP",
        "colab": {
          "base_uri": "https://localhost:8080/"
        },
        "outputId": "f6134d49-de47-43c4-c4d6-6f9a3598505f"
      },
      "execution_count": 22,
      "outputs": [
        {
          "output_type": "stream",
          "name": "stdout",
          "text": [
            "l1: [[1, 2, 3, 4, 5], 'M', 'a', 'n', 'a', 'n']\n"
          ]
        }
      ]
    },
    {
      "cell_type": "markdown",
      "source": [
        "Explanation:\n",
        "\n",
        "1. l1.extend('Manan'): The extend method is used to add each character of the string 'Manan' as individual elements to the end of the list l1. This results in the list being extended with the characters 'M', 'a', 'n', 'a', 'n'.\n",
        "\n",
        "2. print(\"l1:\", l1): This line prints the updated list l1 after the extension.\n",
        "\n",
        "So, if l1 had some elements before this operation, it will be extended by the characters of the string 'Manan'."
      ],
      "metadata": {
        "id": "Onjm8vvMLjeg"
      }
    },
    {
      "cell_type": "markdown",
      "source": [
        "## Count function"
      ],
      "metadata": {
        "id": "rzhkyz3HOFYK"
      }
    },
    {
      "cell_type": "code",
      "source": [
        "# Count the number of occurrences of the element 3 in the list l1\n",
        "count_of_3 = l1.count(3)\n",
        "\n",
        "# Print the count\n",
        "print(\"Count of 3 in l1:\", count_of_3)"
      ],
      "metadata": {
        "id": "AR7ZzD18Lskc",
        "colab": {
          "base_uri": "https://localhost:8080/"
        },
        "outputId": "f623c0ea-a7d7-4caa-e684-01513032ff3f"
      },
      "execution_count": 23,
      "outputs": [
        {
          "output_type": "stream",
          "name": "stdout",
          "text": [
            "Count of 3 in l1: 0\n"
          ]
        }
      ]
    },
    {
      "cell_type": "markdown",
      "source": [
        "Explanation:\n",
        "\n",
        "1. l1.count(3): The count method is used to count the number of occurrences of the specified element, in this case, the element 3, in the list l1.\n",
        "\n",
        "2. count_of_3 = l1.count(3): This line assigns the count of occurrences of the element 3 to the variable count_of_3.\n",
        "\n",
        "3. print(\"Count of 3 in l1:\", count_of_3): This line prints the count of occurrences of the element 3 in the list l1."
      ],
      "metadata": {
        "id": "z1tu77BbMupA"
      }
    },
    {
      "cell_type": "markdown",
      "source": [
        "## Index function"
      ],
      "metadata": {
        "id": "XshoZN2ZOKPV"
      }
    },
    {
      "cell_type": "code",
      "source": [
        "# Find the index of the first occurrence of the element 'M' in the list l1\n",
        "index_of_M = l1.index('M')\n",
        "\n",
        "# Print the index\n",
        "print(\"Index of 'M' in l1:\", index_of_M)"
      ],
      "metadata": {
        "id": "Dhz8VdmnM6HJ",
        "colab": {
          "base_uri": "https://localhost:8080/"
        },
        "outputId": "21c267e5-baba-4507-e036-ab87c47038b1"
      },
      "execution_count": 24,
      "outputs": [
        {
          "output_type": "stream",
          "name": "stdout",
          "text": [
            "Index of 'M' in l1: 1\n"
          ]
        }
      ]
    },
    {
      "cell_type": "markdown",
      "source": [
        "Explanation:\n",
        "\n",
        "1. l1.index('M'): The index method is used to find the index of the first occurrence of the specified element, in this case, the character 'M', in the list l1.\n",
        "\n",
        "2. index_of_M = l1.index('M'): This line assigns the index of the first occurrence of 'M' to the variable index_of_M.\n",
        "\n",
        "3. print(\"Index of 'M' in l1:\", index_of_M): This line prints the index of the first occurrence of 'M' in the list l1."
      ],
      "metadata": {
        "id": "nE1Oai-8Pd6o"
      }
    },
    {
      "cell_type": "markdown",
      "source": [
        "## Insert function"
      ],
      "metadata": {
        "id": "Rhe9v9j0Psys"
      }
    },
    {
      "cell_type": "code",
      "source": [
        "# Insert the value 7 at index 3 in the list l1\n",
        "l1.insert(3, 7)\n",
        "\n",
        "# Print the updated list l1\n",
        "print(\"Updated l1:\", l1)"
      ],
      "metadata": {
        "id": "jSHsZLwAPmRR",
        "colab": {
          "base_uri": "https://localhost:8080/"
        },
        "outputId": "dd80bf91-0bdf-434a-9ad8-03b50e1af9e9"
      },
      "execution_count": 25,
      "outputs": [
        {
          "output_type": "stream",
          "name": "stdout",
          "text": [
            "Updated l1: [[1, 2, 3, 4, 5], 'M', 'a', 7, 'n', 'a', 'n']\n"
          ]
        }
      ]
    },
    {
      "cell_type": "markdown",
      "source": [
        "Explanation:\n",
        "\n",
        "1. l1.insert(3, 7): The insert method is used to insert a specified value, in this case, the number 7, at a specified index, in this case, index 3, in the list l1.\n",
        "\n",
        "2. This operation modifies the list by adding the value 7 at the specified index, and the elements at and after that index are shifted to accommodate the new element.\n",
        "\n",
        "3. print(\"Updated l1:\", l1): This line prints the updated list l1 after the insertion."
      ],
      "metadata": {
        "id": "bJnBiAD0Q7CA"
      }
    },
    {
      "cell_type": "markdown",
      "source": [
        "## Pop function"
      ],
      "metadata": {
        "id": "BFdyvW2SSDG7"
      }
    },
    {
      "cell_type": "code",
      "source": [
        "# Remove and return the last element from the list l1\n",
        "removed_element = l1.pop()\n",
        "\n",
        "# Print the removed element and the updated list l1\n",
        "print(\"Removed element:\", removed_element)\n",
        "print(\"Updated l1:\", l1)"
      ],
      "metadata": {
        "id": "erROtTV2RNsJ",
        "colab": {
          "base_uri": "https://localhost:8080/"
        },
        "outputId": "434ba779-9f3d-4dae-b66b-d04f6f15d741"
      },
      "execution_count": 26,
      "outputs": [
        {
          "output_type": "stream",
          "name": "stdout",
          "text": [
            "Removed element: n\n",
            "Updated l1: [[1, 2, 3, 4, 5], 'M', 'a', 7, 'n', 'a']\n"
          ]
        }
      ]
    },
    {
      "cell_type": "markdown",
      "source": [
        "Explanation:\n",
        "\n",
        "1. l1.pop(): The pop method is used to remove and return the last element from the list l1. If the list is empty, this operation will result in an IndexError.\n",
        "\n",
        "2. removed_element = l1.pop(): This line assigns the removed element (the last element of the list) to the variable removed_element.\n",
        "\n",
        "3. print(\"Removed element:\", removed_element): This line prints the element that was removed from the list.\n",
        "\n",
        "4. print(\"Updated l1:\", l1): This line prints the updated list l1 after the removal."
      ],
      "metadata": {
        "id": "R9mtf7QoTF4h"
      }
    },
    {
      "cell_type": "markdown",
      "source": [
        "## Remove function"
      ],
      "metadata": {
        "id": "yxkymNLxTiv9"
      }
    },
    {
      "cell_type": "code",
      "source": [
        "# Remove the first occurrence of the element 'M' from the list l1\n",
        "l1.remove('M')\n",
        "\n",
        "# Print the updated list l1\n",
        "print(\"Updated l1:\", l1)"
      ],
      "metadata": {
        "id": "6TgEPX9UTV22",
        "colab": {
          "base_uri": "https://localhost:8080/"
        },
        "outputId": "03d52924-2a2a-4f34-e6eb-8df6328097a3"
      },
      "execution_count": 27,
      "outputs": [
        {
          "output_type": "stream",
          "name": "stdout",
          "text": [
            "Updated l1: [[1, 2, 3, 4, 5], 'a', 7, 'n', 'a']\n"
          ]
        }
      ]
    },
    {
      "cell_type": "markdown",
      "source": [
        "Explanation:\n",
        "\n",
        "1. l1.remove('M'): The remove method is used to remove the first occurrence of the specified element, in this case, the character 'M', from the list l1. If the element is not found, it will raise a ValueError.\n",
        "\n",
        "2. This operation modifies the list by removing the first occurrence of 'M' and shifting the elements to fill the gap left by the removal.\n",
        "\n",
        "3. print(\"Updated l1:\", l1): This line prints the updated list l1 after the removal."
      ],
      "metadata": {
        "id": "Eq-4nv2qUNEl"
      }
    },
    {
      "cell_type": "markdown",
      "source": [
        "## Reverse function"
      ],
      "metadata": {
        "id": "quza7YVLUyiN"
      }
    },
    {
      "cell_type": "code",
      "source": [
        "# Reverse the order of elements in the list l1\n",
        "l1.reverse()\n",
        "\n",
        "# Print the reversed list l1\n",
        "print(\"Reversed l1:\", l1)"
      ],
      "metadata": {
        "id": "gQIkCR4UUX86",
        "colab": {
          "base_uri": "https://localhost:8080/"
        },
        "outputId": "52ed7be8-f792-4195-c8ca-fcb92cdd5ef5"
      },
      "execution_count": 28,
      "outputs": [
        {
          "output_type": "stream",
          "name": "stdout",
          "text": [
            "Reversed l1: ['a', 'n', 7, 'a', [1, 2, 3, 4, 5]]\n"
          ]
        }
      ]
    },
    {
      "cell_type": "markdown",
      "source": [
        "Explanation:\n",
        "\n",
        "1. l1.reverse(): The reverse method is used to reverse the order of elements in the list l1. After this operation, the first element becomes the last, the second becomes the second-to-last, and so on.\n",
        "\n",
        "2. This operation modifies the list in place, meaning it doesn't create a new list but reverses the elements within the existing list.\n",
        "\n",
        "3. print(\"Reversed l1:\", l1): This line prints the list l1 after the reversal."
      ],
      "metadata": {
        "id": "ojpSs2b0WI6k"
      }
    },
    {
      "cell_type": "markdown",
      "source": [
        "## Sort function"
      ],
      "metadata": {
        "id": "YvlwvDH-Xjcu"
      }
    },
    {
      "cell_type": "code",
      "source": [
        "# Sort the elements of the list l1 in ascending order\n",
        "l1.sort()\n",
        "\n",
        "# Print the sorted list l1\n",
        "print(\"Sorted l1:\", l1)"
      ],
      "metadata": {
        "id": "HR3KZK78WBcw"
      },
      "execution_count": null,
      "outputs": []
    },
    {
      "cell_type": "markdown",
      "source": [
        "Explanation:\n",
        "\n",
        "1. l1.sort(): The sort method is used to sort the elements of the list l1 in ascending order. If the elements are of different types, it will raise a TypeError.\n",
        "\n",
        "2. This operation modifies the list in place, meaning it doesn't create a new list but rearranges the elements within the existing list.\n",
        "\n",
        "3. print(\"Sorted l1:\", l1): This line prints the list l1 after the sorting."
      ],
      "metadata": {
        "id": "nX8tt5W6aSnB"
      }
    },
    {
      "cell_type": "markdown",
      "source": [
        "### This was all about functions ."
      ],
      "metadata": {
        "id": "nQUIDjnAbzM8"
      }
    },
    {
      "cell_type": "markdown",
      "source": [
        "# Now lets proceed to our main project."
      ],
      "metadata": {
        "id": "dwJnK-1Gb7u0"
      }
    },
    {
      "cell_type": "code",
      "source": [
        "# Create two lists, 'name' and 'age'\n",
        "name = [\"Manan\", \"Rishabh\", \"Abhinav\"]\n",
        "age = [19, 13, 18]\n",
        "\n",
        "# Print the lists 'name' and 'age'\n",
        "print(\"Names:\", name)\n",
        "print(\"Ages:\", age)"
      ],
      "metadata": {
        "id": "7xHsr6C9bSfn",
        "colab": {
          "base_uri": "https://localhost:8080/"
        },
        "outputId": "ced1693e-78f3-4cb1-9f73-a52fddaca9ee"
      },
      "execution_count": 30,
      "outputs": [
        {
          "output_type": "stream",
          "name": "stdout",
          "text": [
            "Names: ['Manan', 'Rishabh', 'Abhinav']\n",
            "Ages: [19, 13, 18]\n"
          ]
        }
      ]
    },
    {
      "cell_type": "markdown",
      "source": [
        "Explanation:\n",
        "\n",
        "1. name = [\"Manan\", \"Rishabh\", \"Abhinav\"]: This line creates a list named name containing three string elements: \"Manan\", \"Rishabh\", and \"Abhinav\". These elements represent names.\n",
        "\n",
        "2. age = [19, 13, 18]: This line creates a list named age containing three integer elements: 19, 13, and 18. These elements represent corresponding ages.\n",
        "\n",
        "3. print(\"Names:\", name): This line prints the contents of the list name, which contains names.\n",
        "\n",
        "4. print(\"Ages:\", age): This line prints the contents of the list age, which contains ages.\n",
        "\n"
      ],
      "metadata": {
        "id": "Y3BhfhPOcgzn"
      }
    },
    {
      "cell_type": "markdown",
      "source": [
        "# Zip function"
      ],
      "metadata": {
        "id": "HgiFF8JSfSm0"
      }
    },
    {
      "cell_type": "code",
      "source": [
        "# Use the zip function to combine corresponding elements from 'name' and 'age'\n",
        "zip(name, age)"
      ],
      "metadata": {
        "id": "RC5dICPyc1l0",
        "colab": {
          "base_uri": "https://localhost:8080/"
        },
        "outputId": "3d776595-7fcf-42bd-9557-49783240cb69"
      },
      "execution_count": 31,
      "outputs": [
        {
          "output_type": "execute_result",
          "data": {
            "text/plain": [
              "<zip at 0x7dafc8680d40>"
            ]
          },
          "metadata": {},
          "execution_count": 31
        }
      ]
    },
    {
      "cell_type": "markdown",
      "source": [
        " zip is considered a lazy function or iterator, which means it doesn't compute or generate all the values at once. Instead, it generates values on-the-fly as you iterate through them, which can be more memory-efficient.\n",
        "\n",
        "Here's an explanation of how zip behaves as a lazy function:\n",
        "\n",
        "1. Pairs are created on demand: When you use zip, it doesn't immediately create all the pairs. It creates a zip object, and the pairs are generated only when you iterate over the object.\n",
        "\n",
        "2. Efficient memory usage: This lazy behavior is memory-efficient because it doesn't precompute all possible pairs, especially useful when dealing with large datasets.\n",
        "\n",
        "3. Works well with infinite sequences: Since it generates values on-the-fly, zip can work well with infinite sequences. For example, you could zip together an infinite sequence of numbers with another sequence."
      ],
      "metadata": {
        "id": "qm_nNorqD2qF"
      }
    },
    {
      "cell_type": "markdown",
      "source": [
        "# Using Dict Constructor to run the lazy function (zip)."
      ],
      "metadata": {
        "id": "4n21lXR4f8l3"
      }
    },
    {
      "cell_type": "markdown",
      "source": [
        "Depicting how to make a dictionary."
      ],
      "metadata": {
        "id": "9hmvIOnOgQdi"
      }
    },
    {
      "cell_type": "code",
      "source": [
        "# Use zip to create pairs of names and ages, then convert them to a dictionary\n",
        "name_age_dict = dict(zip(name, age))\n",
        "\n",
        "# Print the resulting dictionary\n",
        "print(\"Name-Age Dictionary:\", name_age_dict)"
      ],
      "metadata": {
        "id": "W4fAZmdcflPW",
        "colab": {
          "base_uri": "https://localhost:8080/"
        },
        "outputId": "88a2d99e-3b0b-4f34-c6b0-f4256f60c3f0"
      },
      "execution_count": 32,
      "outputs": [
        {
          "output_type": "stream",
          "name": "stdout",
          "text": [
            "Name-Age Dictionary: {'Manan': 19, 'Rishabh': 13, 'Abhinav': 18}\n"
          ]
        }
      ]
    },
    {
      "cell_type": "markdown",
      "source": [
        "Explanation:\n",
        "\n",
        "1. zip(name, age): The zip function is used to create pairs of corresponding elements from the 'name' and 'age' lists, resulting in an iterable of tuples.\n",
        "\n",
        "2. dict(...): The dict constructor is used to convert the iterable of tuples into a dictionary. Each tuple is treated as a key-value pair, where the name is the key and the age is the value.\n",
        "\n",
        "3. name_age_dict = dict(zip(name, age)): This line combines the use of zip and dict to create a dictionary where names are mapped to their corresponding ages.\n",
        "\n",
        "4. print(\"Name-Age Dictionary:\", name_age_dict): This line prints the resulting dictionary containing names as keys and ages as values."
      ],
      "metadata": {
        "id": "fIiKCZIqgx11"
      }
    },
    {
      "cell_type": "markdown",
      "source": [
        "# Q. If a coin is tossed and comes true generate a random string having numbers till 10th index and from the 11th index it should contain Alphabets.Then generate a total of 1000 random strings and make a table of to plot a graph ."
      ],
      "metadata": {
        "id": "bt87IixQGs7m"
      }
    },
    {
      "cell_type": "code",
      "source": [
        "# Import the 'random' module for generating random numbers\n",
        "import random\n",
        "\n",
        "# Import the 'matplotlib.pyplot' module for creating plots\n",
        "import matplotlib.pyplot as plt"
      ],
      "metadata": {
        "id": "vqwZhymdUi0L"
      },
      "execution_count": 33,
      "outputs": []
    },
    {
      "cell_type": "markdown",
      "source": [
        "Explanation:\n",
        "\n",
        "The code begins by importing the 'random' module, which is used for generating random numbers, and the 'matplotlib.pyplot' module, which is used for creating plots."
      ],
      "metadata": {
        "id": "Xyc0ATzGGaJF"
      }
    },
    {
      "cell_type": "code",
      "source": [
        "# Create a dictionary mapping numerical values to their corresponding values\n",
        "mapping_dict = dict(zip(range(0, 10), range(0, 10)))\n",
        "\n",
        "# Extend the dictionary by mapping additional numerical values to uppercase letters\n",
        "for key, value in zip(range(10, 36), range(65, 91)):\n",
        "    mapping_dict[key] = chr(value)\n",
        "\n",
        "# Print the resulting dictionary\n",
        "print(mapping_dict)\n"
      ],
      "metadata": {
        "id": "fDqimChSDgHC",
        "colab": {
          "base_uri": "https://localhost:8080/"
        },
        "outputId": "8e76a313-9bfa-403c-c58a-2e21cf4c0c42"
      },
      "execution_count": 34,
      "outputs": [
        {
          "output_type": "stream",
          "name": "stdout",
          "text": [
            "{0: 0, 1: 1, 2: 2, 3: 3, 4: 4, 5: 5, 6: 6, 7: 7, 8: 8, 9: 9, 10: 'A', 11: 'B', 12: 'C', 13: 'D', 14: 'E', 15: 'F', 16: 'G', 17: 'H', 18: 'I', 19: 'J', 20: 'K', 21: 'L', 22: 'M', 23: 'N', 24: 'O', 25: 'P', 26: 'Q', 27: 'R', 28: 'S', 29: 'T', 30: 'U', 31: 'V', 32: 'W', 33: 'X', 34: 'Y', 35: 'Z'}\n"
          ]
        }
      ]
    },
    {
      "cell_type": "markdown",
      "source": [
        "Explanation:\n",
        "\n",
        "1. The code starts by creating a dictionary called mapping_dict using the zip function. This dictionary initially maps numerical values from 0 to 9 to themselves. The range(0, 10) generates values from 0 to 9, and zip combines them into pairs.\n",
        "\n",
        "2. The code then enters a loop using for key, value in zip(range(10, 36), range(65, 91)):. This loop extends the dictionary by mapping numerical values from 10 to 35 to their corresponding uppercase letters in the ASCII character set (from 'A' to 'Z'). The chr function is used to convert numerical values to their corresponding ASCII characters.\n",
        "\n",
        "3. After the loop, the resulting mapping_dict is printed to display the complete mapping.\n",
        "\n",
        "In summary, this code creates a dictionary that maps numerical values to themselves for the range 0 to 9 and extends the mapping to include numerical values from 10 to 35 mapped to their corresponding uppercase letters. The resulting dictionary is then printed. This could be useful for tasks where you want to map numerical values to specific characters or symbols."
      ],
      "metadata": {
        "id": "_Pqbh4ObH-aM"
      }
    },
    {
      "cell_type": "code",
      "source": [
        "# Iterate through the keys of the 'mapping_dict' dictionary\n",
        "for k in mapping_dict.keys():\n",
        "    # Convert the values associated with each key to strings and update the dictionary\n",
        "    mapping_dict[k] = str(mapping_dict[k])\n",
        "\n",
        "# Print the updated 'mapping_dict'\n",
        "print(mapping_dict)"
      ],
      "metadata": {
        "id": "O3fjC-8wEtuV",
        "colab": {
          "base_uri": "https://localhost:8080/"
        },
        "outputId": "8da3308a-9211-45da-bef0-8afd65b56775"
      },
      "execution_count": 35,
      "outputs": [
        {
          "output_type": "stream",
          "name": "stdout",
          "text": [
            "{0: '0', 1: '1', 2: '2', 3: '3', 4: '4', 5: '5', 6: '6', 7: '7', 8: '8', 9: '9', 10: 'A', 11: 'B', 12: 'C', 13: 'D', 14: 'E', 15: 'F', 16: 'G', 17: 'H', 18: 'I', 19: 'J', 20: 'K', 21: 'L', 22: 'M', 23: 'N', 24: 'O', 25: 'P', 26: 'Q', 27: 'R', 28: 'S', 29: 'T', 30: 'U', 31: 'V', 32: 'W', 33: 'X', 34: 'Y', 35: 'Z'}\n"
          ]
        }
      ]
    },
    {
      "cell_type": "markdown",
      "source": [
        "Explanation:\n",
        "\n",
        "1. The code uses a for loop to iterate through the keys of the mapping_dict dictionary.\n",
        "\n",
        "2. Inside the loop, each value associated with a key is converted to a string using str(mapping_dict[k]).\n",
        "\n",
        "3. The converted string value is then assigned back to the corresponding key in the mapping_dict, updating the dictionary with the string representations.\n",
        "\n",
        "4. After the loop, the updated mapping_dict is printed to show the changes.\n",
        "\n",
        "This code essentially converts all the values in the mapping_dict dictionary to their string representations. This could be useful, for example, if you want to ensure that all values in the dictionary are treated as strings rather than numbers. The resulting dictionary is then printed to reflect the changes made during the iteration."
      ],
      "metadata": {
        "id": "tk00_S7uIR_y"
      }
    },
    {
      "cell_type": "code",
      "source": [
        "# Set the size of the sample to 1,000,000\n",
        "sample_size = 1000000\n",
        "\n",
        "# Create an empty list to store generated random strings\n",
        "random_numbers = list()\n",
        "\n",
        "# Generate random strings based on specified rules\n",
        "for i in range(0, sample_size):\n",
        "    # Initialize an empty string to store the random characters\n",
        "    blank_str = str()\n",
        "\n",
        "    # Generate two random digits and append their corresponding characters to the string\n",
        "    random_digit = random.randint(0, 35)\n",
        "    blank_str = blank_str + mapping_dict[random_digit]\n",
        "\n",
        "    random_digit = random.randint(0, 35)\n",
        "    blank_str = blank_str + mapping_dict[random_digit]\n",
        "\n",
        "    # Generate additional characters based on a coin toss (8 characters at most)\n",
        "    for i in range(0, 8):\n",
        "        coin_toss = random.randint(0, 1)\n",
        "\n",
        "        if coin_toss == 1:\n",
        "            # If the coin toss is 1, generate a random digit and append its character to the string\n",
        "            random_digit = random.randint(0, 35)\n",
        "            blank_str = blank_str + mapping_dict[random_digit]\n",
        "        else:\n",
        "            # If the coin toss is 0, break the loop\n",
        "            break\n",
        "\n",
        "    # Append the generated string to the list\n",
        "    random_numbers.append(blank_str)\n",
        "\n",
        "# Print the list of generated random strings\n",
        "print(random_numbers)"
      ],
      "metadata": {
        "id": "znRRCF7sWw-9",
        "colab": {
          "base_uri": "https://localhost:8080/"
        },
        "outputId": "5cd99d9e-37d1-49eb-9949-f43e19685543"
      },
      "execution_count": 36,
      "outputs": [
        {
          "output_type": "stream",
          "name": "stderr",
          "text": [
            "IOPub data rate exceeded.\n",
            "The notebook server will temporarily stop sending output\n",
            "to the client in order to avoid crashing it.\n",
            "To change this limit, set the config variable\n",
            "`--NotebookApp.iopub_data_rate_limit`.\n",
            "\n",
            "Current values:\n",
            "NotebookApp.iopub_data_rate_limit=1000000.0 (bytes/sec)\n",
            "NotebookApp.rate_limit_window=3.0 (secs)\n",
            "\n"
          ]
        }
      ]
    },
    {
      "cell_type": "markdown",
      "source": [
        "Explanation:\n",
        "\n",
        "1. The code begins by setting the sample_size to 1,000,000 and creating an empty list random_numbers to store the generated random strings.\n",
        "\n",
        "2. A for loop is used to generate random strings based on the specified rules. In each iteration, a new string blank_str is initialized.\n",
        "\n",
        "3. Two random digits are generated, and their corresponding characters from the mapping_dict are appended to the string.\n",
        "\n",
        "4. A loop with a maximum of 8 iterations is used to simulate a coin toss. If the result of the coin toss is 1, another random character is generated and appended to the string. If the result is 0, the loop is broken.\n",
        "\n",
        "5. The generated string is then appended to the random_numbers list.\n",
        "\n",
        "6. After the loop, the list of generated random strings is printed to display the results.\n",
        "\n",
        "This code creates a list of random strings based on a combination of fixed and probabilistic rules. It uses a predefined mapping dictionary (mapping_dict) to convert random digits to corresponding characters. The resulting list (random_numbers) contains a specified number of randomly generated strings."
      ],
      "metadata": {
        "id": "KKPcMQAJJIFX"
      }
    },
    {
      "cell_type": "code",
      "source": [
        "# Create an empty dictionary to store the reverse mapping\n",
        "reverse_mapping_dict = dict()\n",
        "\n",
        "# Iterate through the keys of the 'mapping_dict' dictionary\n",
        "for k in mapping_dict:\n",
        "    # Create a reverse mapping by swapping keys and values\n",
        "    reverse_mapping_dict[mapping_dict[k]] = k\n",
        "\n",
        "# Print the resulting reverse mapping dictionary\n",
        "print(reverse_mapping_dict)"
      ],
      "metadata": {
        "id": "GxkGtEHsZDgm",
        "colab": {
          "base_uri": "https://localhost:8080/"
        },
        "outputId": "540c49a3-2087-47cc-890d-39c9f75172ef"
      },
      "execution_count": 37,
      "outputs": [
        {
          "output_type": "stream",
          "name": "stdout",
          "text": [
            "{'0': 0, '1': 1, '2': 2, '3': 3, '4': 4, '5': 5, '6': 6, '7': 7, '8': 8, '9': 9, 'A': 10, 'B': 11, 'C': 12, 'D': 13, 'E': 14, 'F': 15, 'G': 16, 'H': 17, 'I': 18, 'J': 19, 'K': 20, 'L': 21, 'M': 22, 'N': 23, 'O': 24, 'P': 25, 'Q': 26, 'R': 27, 'S': 28, 'T': 29, 'U': 30, 'V': 31, 'W': 32, 'X': 33, 'Y': 34, 'Z': 35}\n"
          ]
        }
      ]
    },
    {
      "cell_type": "markdown",
      "source": [
        "Explanation:\n",
        "\n",
        "1. The code initializes an empty dictionary called reverse_mapping_dict to store the reverse mapping of the original mapping_dict.\n",
        "\n",
        "2. The code then uses a for loop to iterate through the keys of the original mapping_dict.\n",
        "\n",
        "3. Inside the loop, a reverse mapping is created by swapping the keys and values. The value mapping_dict[k] becomes the key in reverse_mapping_dict, and the original key k becomes the value.\n",
        "\n",
        "4. After the loop, the resulting reverse_mapping_dict is printed to display the reverse mapping.\n",
        "\n",
        "This code essentially flips the key-value pairs of the original mapping_dict to create a new dictionary (reverse_mapping_dict) where the characters become keys, and their corresponding numerical values become the values. This reverse mapping could be useful in scenarios where you need to look up numerical values based on characters. The resulting dictionary is then printed to show the reverse mapping that has been created."
      ],
      "metadata": {
        "id": "MaBJWzDhKHoH"
      }
    },
    {
      "cell_type": "code",
      "source": [
        "# Create an empty dictionary to store the frequency of the highest base in each random string\n",
        "base_frequency = dict()\n",
        "\n",
        "# Iterate through each random string in the list 'random_numbers'\n",
        "for blank_str in random_numbers:\n",
        "    # Find the highest digit in the string\n",
        "    highest_digit = max(blank_str)\n",
        "\n",
        "    # Retrieve the corresponding numerical value from the reverse mapping\n",
        "    highest_base = reverse_mapping_dict[highest_digit] + 1\n",
        "\n",
        "    # Check if the highest base is already in the 'base_frequency' dictionary\n",
        "    if highest_base in base_frequency.keys():\n",
        "        # If yes, increment the frequency by the normalized value (1/sample_size)\n",
        "        base_frequency[highest_base] += (1 / sample_size)\n",
        "    else:\n",
        "        # If not, add a new entry with the highest base and set its frequency to the normalized value\n",
        "        base_frequency[highest_base] = (1 / sample_size)\n",
        "\n",
        "# Print the resulting 'base_frequency' dictionary\n",
        "print(base_frequency)"
      ],
      "metadata": {
        "id": "kA79bSjjXa2S",
        "colab": {
          "base_uri": "https://localhost:8080/"
        },
        "outputId": "713d70b4-752a-4f0f-cc72-8fce3e3eb5e6"
      },
      "execution_count": 38,
      "outputs": [
        {
          "output_type": "stream",
          "name": "stdout",
          "text": [
            "{35: 0.074653000000054, 28: 0.044987000000024334, 21: 0.026434000000005783, 34: 0.06953300000004888, 26: 0.03862600000001797, 32: 0.05980100000003915, 33: 0.06491100000004425, 29: 0.0484540000000278, 24: 0.03371100000001306, 22: 0.02846100000000781, 16: 0.017126999999996475, 30: 0.05223900000003159, 25: 0.035909000000015255, 31: 0.05609000000003544, 10: 0.009169999999999715, 27: 0.04191400000002126, 18: 0.020594999999999943, 19: 0.022598000000001946, 36: 0.07994200000005929, 8: 0.0069380000000005965, 12: 0.011641999999997899, 23: 0.030824000000010173, 11: 0.010282999999998897, 6: 0.004728000000000303, 15: 0.015679999999995028, 17: 0.019047999999998396, 13: 0.012902999999996972, 5: 0.003852000000000187, 14: 0.014371999999995893, 2: 0.001215999999999997, 20: 0.02439000000000374, 9: 0.007899000000000649, 7: 0.0057330000000004365, 4: 0.0028830000000000583, 3: 0.002089999999999953, 1: 0.00036400000000000234}\n"
          ]
        }
      ]
    },
    {
      "cell_type": "markdown",
      "source": [
        "Explanation:\n",
        "\n",
        "1. The code initializes an empty dictionary called base_frequency to store the frequency of the highest base in each random string.\n",
        "\n",
        "2. It then iterates through each random string in the list random_numbers.\n",
        "\n",
        "3. For each string, it finds the highest digit by using the max function.\n",
        "\n",
        "4. The code retrieves the corresponding numerical value (base) from the reverse_mapping_dict using the highest digit.\n",
        "\n",
        "5. It checks if the highest base is already present in the base_frequency dictionary.\n",
        "\n",
        "6. If the highest base is already in the dictionary, it increments the frequency by the normalized value (1/sample_size).\n",
        "\n",
        "7. If the highest base is not in the dictionary, it adds a new entry with the highest base and sets its frequency to the normalized value.\n",
        "\n",
        "8. After the loop, the resulting base_frequency dictionary is printed, showing the frequency of each highest base in the random strings.\n",
        "\n",
        "This code calculates the frequency of the highest base in each random string and stores the results in the base_frequency dictionary. The frequency is normalized by dividing by the total sample size (sample_size). The resulting dictionary provides insights into the distribution of the highest bases across the generated random strings."
      ],
      "metadata": {
        "id": "1w60xgC1Kejk"
      }
    },
    {
      "cell_type": "code",
      "source": [
        "# Create a bar plot using 'base_frequency' dictionary\n",
        "plt.bar(x=base_frequency.keys(), height=base_frequency.values())\n",
        "\n",
        "# Add labels and title to the plot\n",
        "plt.xlabel('Highest Base')\n",
        "plt.ylabel('Frequency')\n",
        "plt.title('Frequency of Highest Base in Random Strings')\n",
        "\n",
        "# Show the plot\n",
        "plt.show()\n"
      ],
      "metadata": {
        "id": "DaAHvzOTZYRV"
      },
      "execution_count": null,
      "outputs": []
    },
    {
      "cell_type": "markdown",
      "source": [
        "Explanation:\n",
        "\n",
        "1. The code begins by importing the 'matplotlib.pyplot' module for creating plots, as it will be used to visualize the data.\n",
        "\n",
        "2. The plt.bar() function is used to create a bar plot. The keys of the base_frequency dictionary are passed as the x-axis values (x=base_frequency.keys()), and the corresponding values are passed as the heights of the bars (height=base_frequency.values()).\n",
        "\n",
        "3. plt.xlabel(), plt.ylabel(), and plt.title() are used to add labels to the x-axis, y-axis, and the title of the plot, respectively. These functions improve the clarity of the plot.\n",
        "\n",
        "4. Finally, plt.show() is called to display the bar plot.\n",
        "\n",
        "This code is used to visualize the frequency distribution of the highest bases in the random strings. The x-axis represents the highest bases, and the y-axis represents their frequencies. The resulting bar plot provides a clear visual representation of how often each highest base occurs in the generated random strings.\n",
        "\n",
        "\n",
        "\n",
        "\n",
        "\n"
      ],
      "metadata": {
        "id": "9FnKZH7rLjWI"
      }
    },
    {
      "cell_type": "markdown",
      "source": [
        "# Definition of Machine learning."
      ],
      "metadata": {
        "id": "e_RbwkzcLvT_"
      }
    },
    {
      "cell_type": "markdown",
      "source": [
        "Machine learning is a set of Mathematical and programming tools used to define a function for the graph of population data using sample data.\n"
      ],
      "metadata": {
        "id": "1_mFi4daaawG"
      }
    },
    {
      "cell_type": "markdown",
      "source": [
        "# Frequentist's definition of probability."
      ],
      "metadata": {
        "id": "2GcC2LPxL3nw"
      }
    },
    {
      "cell_type": "markdown",
      "source": [
        "Probability of (x) = lim\n",
        "                  sample size -> Infinite  Frequency (x) divided by sample size."
      ],
      "metadata": {
        "id": "QaNFqgJYd_uL"
      }
    },
    {
      "cell_type": "markdown",
      "source": [
        "Frequentist definition of probability:- Probability of occurance of Any event x is the limiting case of relative frequency ,as the sample size approaches infinity."
      ],
      "metadata": {
        "id": "kPb1_IJKesO4"
      }
    }
  ]
}
